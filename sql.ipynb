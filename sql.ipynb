{
 "cells": [
  {
   "cell_type": "code",
   "execution_count": 21,
   "metadata": {},
   "outputs": [],
   "source": [
    "import sqlite3\n",
    "import pandas as pd\n",
    "\n",
    "data_file = 'list.csv'\n",
    "df = pd.read_csv(data_file)\n",
    "\n",
    "sqlite_db = 'list.db'\n",
    "\n",
    "conn = sqlite3.connect(sqlite_db)\n",
    "cursor = conn.cursor()\n",
    "\n",
    "table_query = \"\"\"\n",
    "CREATE TABLE IF NOT EXISTS list_cars (\n",
    "    id INTEGER PRIMARY KEY,\n",
    "    car_model TEXT,\n",
    "    year_of_production INTEGER,\n",
    "    engine_volume REAL,\n",
    "    mileage REAL,\n",
    "    fuel TEXT,\n",
    "    steering_wheel_location TEXT,\n",
    "    color TEXT,\n",
    "    body_type TEXT,\n",
    "    location TEXT,\n",
    "    price_in_usd REAL\n",
    ");\n",
    "\"\"\"\n",
    "\n",
    "cursor.execute(table_query)\n",
    "\n",
    "df.rename(columns={\n",
    "    \"Car Model\": \"car_model\",\n",
    "    \"Year of Production\": \"year_of_production\",\n",
    "    \"Engine Volume\": \"engine_volume\",\n",
    "    \"Mileage\": \"mileage\",\n",
    "    \"Fuel\": \"fuel\",\n",
    "    \"Steering Wheel Location\": \"steering_wheel_location\",\n",
    "    \"Color\": \"color\",\n",
    "    \"Body Type\": \"body_type\",\n",
    "    \"Location\": \"location\",\n",
    "    \"Price in USD\": \"price_in_usd\"\n",
    "}, inplace=True)\n",
    "\n",
    "\n",
    "df.to_sql('list_cars', conn, if_exists='replace', index=False)\n",
    "\n",
    "conn.commit()\n",
    "conn.close()\n",
    "\n"
   ]
  },
  {
   "cell_type": "code",
   "execution_count": 22,
   "metadata": {},
   "outputs": [],
   "source": [
    "import sqlite3\n",
    "import pandas as pd\n",
    "\n",
    "conn = sqlite3.connect('list.db')\n",
    "cursor = conn.cursor()"
   ]
  },
  {
   "cell_type": "code",
   "execution_count": 23,
   "metadata": {},
   "outputs": [
    {
     "data": {
      "text/plain": [
       "[('Mitsubishi Carisma', 1999, 210000)]"
      ]
     },
     "execution_count": 23,
     "metadata": {},
     "output_type": "execute_result"
    }
   ],
   "source": [
    "#Find the most expensive car:\n",
    "cursor.execute(\"\"\"SELECT car_model, year_of_production, price_in_usd\n",
    "FROM list_cars\n",
    "ORDER BY price_in_usd DESC\n",
    "LIMIT 1;\n",
    "\"\"\")\n",
    "cursor.fetchall()\n"
   ]
  },
  {
   "cell_type": "code",
   "execution_count": 24,
   "metadata": {},
   "outputs": [
    {
     "name": "stdout",
     "output_type": "stream",
     "text": [
      "251\n"
     ]
    }
   ],
   "source": [
    "#List all unique car models available:\n",
    "cursor.execute(\"\"\"SELECT DISTINCT car_model\n",
    "FROM list_cars;\n",
    "\"\"\")\n",
    "\n",
    "print(len(cursor.fetchall()))"
   ]
  },
  {
   "cell_type": "code",
   "execution_count": 25,
   "metadata": {},
   "outputs": [
    {
     "data": {
      "text/plain": [
       "[(' бензин', 4568.22438752784), (' дизель', 8091.333333333333)]"
      ]
     },
     "execution_count": 25,
     "metadata": {},
     "output_type": "execute_result"
    }
   ],
   "source": [
    "#Calculate the average price of cars by fuel type:\n",
    "cursor.execute(\"\"\"SELECT fuel, AVG(price_in_usd) AS average_price\n",
    "FROM list_cars\n",
    "GROUP BY fuel;\n",
    "\n",
    "\"\"\")\n",
    "cursor.fetchall()"
   ]
  },
  {
   "cell_type": "code",
   "execution_count": 26,
   "metadata": {},
   "outputs": [
    {
     "data": {
      "text/plain": [
       "(20,)"
      ]
     },
     "execution_count": 26,
     "metadata": {},
     "output_type": "execute_result"
    }
   ],
   "source": [
    "#Count the number of cars produced after 2023:\n",
    "cursor.execute(\"\"\"SELECT COUNT(*) AS count_of_cars\n",
    "FROM list_cars\n",
    "WHERE year_of_production > 2023;\n",
    "\n",
    "\n",
    "\"\"\")\n",
    "cursor.fetchone()"
   ]
  },
  {
   "cell_type": "code",
   "execution_count": 42,
   "metadata": {},
   "outputs": [
    {
     "data": {
      "text/plain": [
       "[(16,)]"
      ]
     },
     "execution_count": 42,
     "metadata": {},
     "output_type": "execute_result"
    }
   ],
   "source": [
    "# Count of Cars with Missing Mileage\n",
    "cursor.execute(\"\"\"SELECT COUNT(*) AS Missing_Mileage_Count\n",
    "FROM list_cars\n",
    "WHERE Mileage IS NULL;\n",
    "    \n",
    "\n",
    "\"\"\")\n",
    "cursor.fetchall()"
   ]
  },
  {
   "cell_type": "code",
   "execution_count": 28,
   "metadata": {},
   "outputs": [
    {
     "data": {
      "text/plain": [
       "[('Москвич 400', 1951)]"
      ]
     },
     "execution_count": 28,
     "metadata": {},
     "output_type": "execute_result"
    }
   ],
   "source": [
    "#Find the oldest car in the dataset:\n",
    "cursor.execute(\"\"\"SELECT car_model, year_of_production\n",
    "FROM list_cars\n",
    "ORDER BY year_of_production ASC\n",
    "LIMIT 1;\n",
    "\n",
    "\"\"\")\n",
    "cursor.fetchall()\n"
   ]
  },
  {
   "cell_type": "code",
   "execution_count": 47,
   "metadata": {},
   "outputs": [
    {
     "data": {
      "text/plain": [
       "[(1999, 333, 210000)]"
      ]
     },
     "execution_count": 47,
     "metadata": {},
     "output_type": "execute_result"
    }
   ],
   "source": [
    "#Price Range of Cars by Production Year\n",
    "cursor.execute(\"\"\"SELECT \"year_of_production\", MIN(\"price_in_usd\") AS Min_Price, MAX(\"price_in_usd\") AS Max_Price\n",
    "FROM list_cars\n",
    "GROUP BY \"Year of Production\"\n",
    "ORDER BY \"Year of Production\" ASC;\n",
    "\n",
    "\"\"\")\n",
    "cursor.fetchall()"
   ]
  },
  {
   "cell_type": "code",
   "execution_count": 30,
   "metadata": {},
   "outputs": [
    {
     "data": {
      "text/plain": [
       "[('серебристый', 445),\n",
       " ('белый', 324),\n",
       " ('черный', 221),\n",
       " ('синий', 220),\n",
       " ('серый', 142),\n",
       " ('зеленый', 130),\n",
       " ('вишня', 73),\n",
       " ('красный', 64),\n",
       " ('бирюзовый', 60),\n",
       " ('бордовый', 52),\n",
       " ('голубой', 46),\n",
       " ('бежевый', 34),\n",
       " ('золотистый', 30),\n",
       " ('хамелеон', 27),\n",
       " ('коричневый', 25),\n",
       " ('баклажан', 18),\n",
       " ('жёлтый', 10),\n",
       " ('бронза', 8),\n",
       " ('фиолетовый', 5),\n",
       " ('оранжевый', 5),\n",
       " ('сиреневый', 1)]"
      ]
     },
     "execution_count": 30,
     "metadata": {},
     "output_type": "execute_result"
    }
   ],
   "source": [
    "#Identify the most common car color in the dataset:\n",
    "cursor.execute(\"\"\"SELECT color, COUNT(*) AS color_count\n",
    "FROM list_cars\n",
    "GROUP BY color\n",
    "ORDER BY color_count DESC\n",
    "\n",
    "\"\"\")\n",
    "cursor.fetchall()\n"
   ]
  },
  {
   "cell_type": "code",
   "execution_count": 38,
   "metadata": {},
   "outputs": [
    {
     "data": {
      "text/plain": [
       "[('внедорожник 3 дв.', 5684.208333333333),\n",
       " ('внедорожник 5 дв.', 12251.382716049382),\n",
       " ('внедорожник открытый', 1837.0),\n",
       " ('кабриолет', 4000.0),\n",
       " ('компактвэн', 4986.716049382716),\n",
       " ('купе', 41458.77777777778),\n",
       " ('лифтбек', 5349.0),\n",
       " ('микровэн', 3825.235294117647),\n",
       " ('минивэн', 8005.372093023256),\n",
       " ('пикап двойная кабина', 27630.894736842107),\n",
       " ('родстер', 631.0),\n",
       " ('седан', 4132.538545059718),\n",
       " ('универсал', 3995.6815286624205),\n",
       " ('фургон', 4894.0),\n",
       " ('хэтчбек 3 дв.', 3964.878787878788),\n",
       " ('хэтчбек 5 дв.', 3523.637707948244)]"
      ]
     },
     "execution_count": 38,
     "metadata": {},
     "output_type": "execute_result"
    }
   ],
   "source": [
    "#Find the total value of cars available by body type:\n",
    "cursor.execute(\"\"\"\n",
    "SELECT body_type, AVG(price_in_usd) AS total_value\n",
    "FROM list_cars\n",
    "GROUP BY body_type;\n",
    "\n",
    "\"\"\")\n",
    "cursor.fetchall()\n",
    "\n"
   ]
  },
  {
   "cell_type": "code",
   "execution_count": null,
   "metadata": {},
   "outputs": [],
   "source": []
  },
  {
   "cell_type": "code",
   "execution_count": null,
   "metadata": {},
   "outputs": [],
   "source": []
  },
  {
   "cell_type": "code",
   "execution_count": null,
   "metadata": {},
   "outputs": [],
   "source": []
  }
 ],
 "metadata": {
  "kernelspec": {
   "display_name": "Python 3",
   "language": "python",
   "name": "python3"
  },
  "language_info": {
   "codemirror_mode": {
    "name": "ipython",
    "version": 3
   },
   "file_extension": ".py",
   "mimetype": "text/x-python",
   "name": "python",
   "nbconvert_exporter": "python",
   "pygments_lexer": "ipython3",
   "version": "3.13.0"
  }
 },
 "nbformat": 4,
 "nbformat_minor": 2
}
