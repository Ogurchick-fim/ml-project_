{
 "cells": [
  {
   "cell_type": "code",
   "execution_count": null,
   "metadata": {},
   "outputs": [],
   "source": [
    "import sqlite3\n",
    "import pandas as pd\n",
    "\n",
    "data_file = 'bmwlist.csv'\n",
    "df = pd.read_csv(data_file)\n",
    "\n",
    "sqlite_db = 'bmw_data.db'\n",
    "\n",
    "conn = sqlite3.connect(sqlite_db)\n",
    "cursor = conn.cursor()\n",
    "\n",
    "table_query = \"\"\"\n",
    "CREATE TABLE IF NOT EXISTS bmw_cars (\n",
    "    id INTEGER PRIMARY KEY,\n",
    "    car_model TEXT,\n",
    "    year_of_production INTEGER,\n",
    "    engine_volume REAL,\n",
    "    mileage REAL,\n",
    "    fuel TEXT,\n",
    "    gearbox_mechanism TEXT,\n",
    "    steering_wheel_location TEXT,\n",
    "    color TEXT,\n",
    "    body_type TEXT,\n",
    "    location TEXT,\n",
    "    price_in_usd REAL\n",
    ");\n",
    "\"\"\"\n",
    "\n",
    "cursor.execute(table_query)\n",
    "\n",
    "df.rename(columns={\n",
    "    \"Car Model\": \"car_model\",\n",
    "    \"Year of Production\": \"year_of_production\",\n",
    "    \"Engine Volume\": \"engine_volume\",\n",
    "    \"Mileage\": \"mileage\",\n",
    "    \"Fuel\": \"fuel\",\n",
    "    \"Gearbox Mechanism\": \"gearbox_mechanism\",\n",
    "    \"Steering Wheel Location\": \"steering_wheel_location\",\n",
    "    \"Color\": \"color\",\n",
    "    \"Body Type\": \"body_type\",\n",
    "    \"Location\": \"location\",\n",
    "    \"Price in USD\": \"price_in_usd\"\n",
    "}, inplace=True)\n",
    "\n",
    "\n",
    "df.to_sql('bmw_cars', conn, if_exists='replace', index=False)\n",
    "\n",
    "conn.commit()\n",
    "conn.close()\n",
    "\n"
   ]
  },
  {
   "cell_type": "code",
   "execution_count": 2,
   "metadata": {},
   "outputs": [],
   "source": [
    "import sqlite3\n",
    "import pandas as pd\n",
    "\n",
    "conn = sqlite3.connect('bmw_data.db')\n",
    "cursor = conn.cursor()"
   ]
  },
  {
   "cell_type": "code",
   "execution_count": 6,
   "metadata": {},
   "outputs": [
    {
     "data": {
      "text/plain": [
       "[('BMW XM', 2023, 235000)]"
      ]
     },
     "execution_count": 6,
     "metadata": {},
     "output_type": "execute_result"
    }
   ],
   "source": [
    "#Find the most expensive car:\n",
    "cursor.execute(\"\"\"SELECT car_model, year_of_production, price_in_usd\n",
    "FROM bmw_cars\n",
    "ORDER BY price_in_usd DESC\n",
    "LIMIT 1;\n",
    "\"\"\")\n",
    "cursor.fetchall()\n"
   ]
  },
  {
   "cell_type": "code",
   "execution_count": 7,
   "metadata": {},
   "outputs": [
    {
     "data": {
      "text/plain": [
       "[('BMW 5 серии',),\n",
       " ('BMW X7',),\n",
       " ('BMW 7 серии',),\n",
       " ('BMW X5',),\n",
       " ('BMW X6',),\n",
       " ('BMW X2',),\n",
       " ('BMW X3',),\n",
       " ('BMW 3 серии',),\n",
       " ('BMW M8',),\n",
       " ('BMW M4',),\n",
       " ('BMW X5 M',),\n",
       " ('BMW X1',),\n",
       " ('BMW iX3',),\n",
       " ('BMW 4 серии',),\n",
       " ('BMW M5',),\n",
       " ('BMW 6 серии',),\n",
       " ('BMW X6 M',),\n",
       " ('BMW 2 серии Active Tourer',),\n",
       " ('BMW XM',),\n",
       " ('BMW i4',),\n",
       " ('BMW M3',),\n",
       " ('BMW 1 серии',),\n",
       " ('BMW 8 серии',),\n",
       " ('BMW X4',),\n",
       " ('BMW X4 M',),\n",
       " ('BMW iX',),\n",
       " ('BMW X3 M',),\n",
       " ('BMW i7',),\n",
       " ('BMW i3',),\n",
       " ('BMW iX1',),\n",
       " ('BMW 2 серии',),\n",
       " ('BMW M6',),\n",
       " ('BMW i5',)]"
      ]
     },
     "execution_count": 7,
     "metadata": {},
     "output_type": "execute_result"
    }
   ],
   "source": [
    "#List all unique car models available:\n",
    "cursor.execute(\"\"\"SELECT DISTINCT car_model\n",
    "FROM bmw_cars;\n",
    "\"\"\")\n",
    "cursor.fetchall()"
   ]
  },
  {
   "cell_type": "code",
   "execution_count": 8,
   "metadata": {},
   "outputs": [
    {
     "data": {
      "text/plain": [
       "[(' бензин', 42583.60345932095),\n",
       " (' гибрид', 96790.32258064517),\n",
       " (' дизель', 43396.19337016575),\n",
       " (' электро', 48296.11538461538)]"
      ]
     },
     "execution_count": 8,
     "metadata": {},
     "output_type": "execute_result"
    }
   ],
   "source": [
    "#Calculate the average price of cars by fuel type:\n",
    "cursor.execute(\"\"\"SELECT fuel, AVG(price_in_usd) AS average_price\n",
    "FROM bmw_cars\n",
    "GROUP BY fuel;\n",
    "\n",
    "\"\"\")\n",
    "cursor.fetchall()"
   ]
  },
  {
   "cell_type": "code",
   "execution_count": 10,
   "metadata": {},
   "outputs": [
    {
     "data": {
      "text/plain": [
       "(621,)"
      ]
     },
     "execution_count": 10,
     "metadata": {},
     "output_type": "execute_result"
    }
   ],
   "source": [
    "#Count the number of cars produced after 2020:\n",
    "cursor.execute(\"\"\"SELECT COUNT(*) AS count_of_cars\n",
    "FROM bmw_cars\n",
    "WHERE year_of_production > 2020;\n",
    "\n",
    "\n",
    "\"\"\")\n",
    "cursor.fetchone()"
   ]
  },
  {
   "cell_type": "code",
   "execution_count": 11,
   "metadata": {},
   "outputs": [
    {
     "data": {
      "text/plain": [
       "[(97212.32442748091,)]"
      ]
     },
     "execution_count": 11,
     "metadata": {},
     "output_type": "execute_result"
    }
   ],
   "source": [
    "#Find the average mileage for SUVs (внедорожник 5 дв.):\n",
    "cursor.execute(\"\"\"SELECT AVG(mileage) AS average_mileage\n",
    "FROM bmw_cars\n",
    "WHERE body_type = 'внедорожник 5 дв.';\n",
    "\n",
    "\"\"\")\n",
    "cursor.fetchall()"
   ]
  },
  {
   "cell_type": "code",
   "execution_count": null,
   "metadata": {},
   "outputs": [],
   "source": []
  }
 ],
 "metadata": {
  "kernelspec": {
   "display_name": "Python 3",
   "language": "python",
   "name": "python3"
  },
  "language_info": {
   "codemirror_mode": {
    "name": "ipython",
    "version": 3
   },
   "file_extension": ".py",
   "mimetype": "text/x-python",
   "name": "python",
   "nbconvert_exporter": "python",
   "pygments_lexer": "ipython3",
   "version": "3.13.0"
  }
 },
 "nbformat": 4,
 "nbformat_minor": 2
}
